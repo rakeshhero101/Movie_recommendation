{
 "cells": [
  {
   "cell_type": "code",
   "execution_count": 7,
   "metadata": {},
   "outputs": [],
   "source": [
    "# -*- coding: utf-8 -*-\n",
    "\"\"\"\n",
    "Created on Thu Dec 20 11:20:08 2018\n",
    "\n",
    "@author: Rakesh Maharjan\n",
    "\"\"\"\n",
    "\n",
    "# A dictionary of movie critics and their ratings of a small set of movies\n",
    "\n",
    "critics = {'Lisa Rose' : {'Lady in the water' : 2.5, 'Snake on a plane' : 3.5,\n",
    "                          'Just My Luck' : 3.0, 'Superman Returns' : 3.5,\n",
    "                          'You, Me and Dupree' : 2.5, 'The Night Listener' : 3.0},\n",
    "            'Gene Seymour' : {'Lady in the water' : 3.0, 'Snake on a plane' : 3.5,\n",
    "                              'Just My Luck' : 1.5, 'Superman Returns' : 5.0,\n",
    "                              'You, Me and Dupree' : 3.0, 'The Night Listener' : 3.5},\n",
    "            'Michael Phillips' : {'Lady in the water' : 2.5, 'Snake on a plane' : 3.0,\n",
    "                                  'Superman Returns' : 3.5,'The Night Listener' : 4.0},\n",
    "            'Claudia Puig' : {'Lady in the water' : 2.5, 'Snake on a plane' : 3.5,\n",
    "                              'Superman Returns' : 4.0,\n",
    "                              'You, Me and Dupree' : 2.5, 'The Night Listener' : 4.5},\n",
    "            'Mick LaSalle' : {'Lady in the water' : 3.0, 'Snake on a plane' : 4.0,\n",
    "                              'Just My Luck' : 2.0, 'Superman Returns' : 3.0,\n",
    "                              'You, Me and Dupree' : 2.0, 'The Night Listener' : 3.0},\n",
    "            'Jack Matthews' : {'Lady in the water' : 3.0, 'Snake on a plane' : 4.0,\n",
    "                              'Superman Returns' : 5.0,\n",
    "                              'You, Me and Dupree' : 3.5},\n",
    "            'Toby' : {'Snake on a plane' : 4.5,\n",
    "                      'Superman Returns' : 5.0,\n",
    "                      'You, Me and Dupree' : 1.0}}\n",
    "\n",
    "from math import sqrt\n",
    "\n",
    "# Returns a distance-based similarity score for person1 and Person2\n",
    "def sim_distance(prefs, person1, person2):\n",
    "    #Get the list of the shared items\n",
    "    si = {}\n",
    "    for item in prefs[person1]:\n",
    "        if item in prefs[person2]:\n",
    "            si[item] = 1\n",
    "            \n",
    "    # if they have no ratings in common return 0\n",
    "    if len(si) == 0 : \n",
    "        return 0\n",
    "    \n",
    "    # Add up the squares of all the differences \n",
    "    sum_of_squares = sum([pow(prefs[person1][item] - prefs[person2][item], 2)\n",
    "                    for item in prefs[person1] if item in prefs[person2]])\n",
    "    \n",
    "    return 1/(1 + sum_of_squares)\n",
    "\n",
    "# Returns the Pearson correlation coeffecient for p1 and p2\n",
    "\n",
    "def sim_pearson(prefs, p1, p2):\n",
    "    #Get the list of the mutually rated items\n",
    "    \n",
    "    si ={}\n",
    "    \n",
    "    for item in prefs[p1]:\n",
    "        if item in prefs[p2]:\n",
    "            si[item] = 1\n",
    "    \n",
    "    # Find the number of elements         \n",
    "    n = len(si)\n",
    "    \n",
    "    # if there are no ratings in common 0\n",
    "    if n == 0:\n",
    "        return 0\n",
    "    \n",
    "    # Add up all the preferences\n",
    "    sum1 = sum([prefs[p1][it] for it in si])\n",
    "    sum2 = sum([prefs[p2][it] for it in si])\n",
    "\n",
    "    # sum up the squares\n",
    "    sum1sq = sum([pow(prefs[p1][it], 2) for it in si])\n",
    "    sum2sq = sum([pow(prefs[p2][it], 2) for it in si])\n",
    "\n",
    "    # sum up the produts\n",
    "    pSum = sum([prefs[p1][it] * prefs[p2][it] for it in si])\n",
    "\n",
    "    # Calculate Pearson Score\n",
    "    num = pSum - (sum1*sum2/n)\n",
    "    den = sqrt((sum1sq - pow(sum1, 2)/n) * (sum2sq - pow(sum2, 2)/n))\n",
    "    if den == 0:\n",
    "        return 0\n",
    "    \n",
    "    r = num/den\n",
    "    \n",
    "    return r\n",
    "\n",
    "\n",
    "# Returns the best matches for person from the prefs dictionary.\n",
    "# Number of results and similarity function are optional parms.\n",
    "\n",
    "def topMatches(prefs, person, n = 5, similarity = sim_pearson):\n",
    "    scores = [(similarity(prefs, person, other), other) for other in prefs if other != person]\n",
    "    \n",
    "    # sort the list so the highest score appear at the top\n",
    "    scores.sort()\n",
    "    scores.reverse()\n",
    "    return scores[0 : n]\n",
    "\n",
    "# Gets recommendations for a person by using a weighted average \n",
    "# of every other user's rankings\n",
    "\n",
    "def getRecommendations(prefs, person, similarity = sim_pearson):\n",
    "    totals = {}\n",
    "    simSums = {}\n",
    "    for other in prefs:\n",
    "        # don't compare to myself\n",
    "        if other == person:\n",
    "            continue\n",
    "        sim = similarity(prefs, person, other)\n",
    "        \n",
    "        #ignore scores of zero or lower\n",
    "        if sim <= 0:\n",
    "            continue\n",
    "    for item in prefs[other]:\n",
    "        #only score movie I haven't seen yet\n",
    "        if item not in prefs[person] or prefs[person][item] == 0:\n",
    "            #similarity * score\n",
    "            totals.setdefault(item, 0)\n",
    "            totals[item] += prefs[other][item]*sim\n",
    "            #sum of similarities\n",
    "            simSums.setdefault(item,0)\n",
    "            simSums[item] += sim\n",
    "            \n",
    "    # Create the normalized list\n",
    "    rankings = [(total/simSums[item], item) for item, total in totals.items()]\n",
    "    \n",
    "    #Return the sorted list\n",
    "    rankings.sort()\n",
    "    rankings.reverse()\n",
    "    return rankings  \n",
    "    "
   ]
  },
  {
   "cell_type": "code",
   "execution_count": 6,
   "metadata": {},
   "outputs": [
    {
     "data": {
      "text/plain": [
       "[]"
      ]
     },
     "execution_count": 6,
     "metadata": {},
     "output_type": "execute_result"
    }
   ],
   "source": [
    "\n",
    "getRecommendations(critics, 'Jack Matthews')"
   ]
  },
  {
   "cell_type": "code",
   "execution_count": 8,
   "metadata": {},
   "outputs": [
    {
     "data": {
      "text/plain": [
       "{'Snake on a plane': 4.5, 'Superman Returns': 5.0, 'You, Me and Dupree': 1.0}"
      ]
     },
     "execution_count": 8,
     "metadata": {},
     "output_type": "execute_result"
    }
   ],
   "source": [
    "critics['Toby']"
   ]
  },
  {
   "cell_type": "code",
   "execution_count": 9,
   "metadata": {},
   "outputs": [
    {
     "data": {
      "text/plain": [
       "[]"
      ]
     },
     "execution_count": 9,
     "metadata": {},
     "output_type": "execute_result"
    }
   ],
   "source": [
    "getRecommendations(prefs=critics, person= 'Toby')"
   ]
  },
  {
   "cell_type": "code",
   "execution_count": null,
   "metadata": {},
   "outputs": [],
   "source": []
  }
 ],
 "metadata": {
  "kernelspec": {
   "display_name": "Python 3",
   "language": "python",
   "name": "python3"
  },
  "language_info": {
   "codemirror_mode": {
    "name": "ipython",
    "version": 3
   },
   "file_extension": ".py",
   "mimetype": "text/x-python",
   "name": "python",
   "nbconvert_exporter": "python",
   "pygments_lexer": "ipython3",
   "version": "3.6.5"
  }
 },
 "nbformat": 4,
 "nbformat_minor": 2
}
